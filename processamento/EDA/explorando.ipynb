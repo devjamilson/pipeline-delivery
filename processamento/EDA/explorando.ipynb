{
 "cells": [
  {
   "cell_type": "markdown",
   "metadata": {},
   "source": [
    "## **Analise Exploratória dos Dados**"
   ]
  },
  {
   "cell_type": "code",
   "execution_count": 3,
   "metadata": {},
   "outputs": [
    {
     "name": "stderr",
     "output_type": "stream",
     "text": [
      "                                                                                \r"
     ]
    }
   ],
   "source": [
    "from pyspark.sql import SparkSession\n",
    "\n",
    "spark = SparkSession.builder.appName(\"lendo os dados\").getOrCreate()\n",
    "\n",
    "payments =spark.read.csv('/home/jamilsonfs/pipeline/dados/payments.csv')\n",
    "channels = spark.read.csv('/home/jamilsonfs/pipeline/dados/channels.csv')\n",
    "deliveries = spark.read.csv('/home/jamilsonfs/pipeline/dados/deliveries.csv')\n",
    "drivers = spark.read.csv('/home/jamilsonfs/pipeline/dados/drivers.csv')\n",
    "hubs = spark.read.csv('/home/jamilsonfs/pipeline/dados/hubs.csv')\n",
    "orders = spark.read.csv('/home/jamilsonfs/pipeline/dados/orders.csv')\n",
    "stores = spark.read.csv('/home/jamilsonfs/pipeline/dados/stores.csv')"
   ]
  },
  {
   "cell_type": "markdown",
   "metadata": {},
   "source": [
    "### **Explorando os dados de ***payments*****"
   ]
  },
  {
   "cell_type": "code",
   "execution_count": 7,
   "metadata": {},
   "outputs": [
    {
     "name": "stdout",
     "output_type": "stream",
     "text": [
      "+----------+----------------+--------------+-----------+--------------+--------------+\n",
      "|       _c0|             _c1|           _c2|        _c3|           _c4|           _c5|\n",
      "+----------+----------------+--------------+-----------+--------------+--------------+\n",
      "|payment_id|payment_order_id|payment_amount|payment_fee|payment_method|payment_status|\n",
      "|   4427917|        68410055|        118.44|          0|       VOUCHER|          PAID|\n",
      "|   4427918|        68410055|        394.81|        7.9|        ONLINE|          PAID|\n",
      "|   4427941|        68412721|        206.95|       5.59|        ONLINE|          PAID|\n",
      "|   4427948|        68413340|          58.8|       1.59|        ONLINE|          PAID|\n",
      "|   4427955|        68414018|          45.8|       0.92|        ONLINE|          PAID|\n",
      "|   4427956|        68414309|         106.8|       2.88|        ONLINE|          PAID|\n",
      "|   4427961|        68414512|          57.8|       1.56|        ONLINE|          PAID|\n",
      "|   4427963|        68414563|          26.9|        0.4|        ONLINE|          PAID|\n",
      "|   4427975|        68415103|         115.5|       3.12|        ONLINE|          PAID|\n",
      "|   4427976|        68415140|         199.3|       5.38|        ONLINE|          PAID|\n",
      "|   4427980|        68415344|          95.3|       2.57|        ONLINE|          PAID|\n",
      "|   4427983|        68415457|         148.7|       4.01|        ONLINE|          PAID|\n",
      "|   4427988|        68415474|         170.2|        4.6|        ONLINE|          PAID|\n",
      "|   4427989|        68415543|          19.9|        0.3|        ONLINE|          PAID|\n",
      "|   4427990|        68415543|             5|          0|       VOUCHER|          PAID|\n",
      "|   4427997|        68415947|          25.9|       0.52|        ONLINE|          PAID|\n",
      "|   4427999|        68416059|         175.2|       4.73|        ONLINE|          PAID|\n",
      "|   4428001|        68416226|          31.4|       0.63|        ONLINE|          PAID|\n",
      "|   4428002|        68416227|          25.9|       0.52|        ONLINE|          PAID|\n",
      "+----------+----------------+--------------+-----------+--------------+--------------+\n",
      "only showing top 20 rows\n",
      "\n",
      "Quantidade dos dados 400835\n",
      "Colunas dos dados ['_c0', '_c1', '_c2', '_c3', '_c4', '_c5']\n"
     ]
    },
    {
     "name": "stderr",
     "output_type": "stream",
     "text": [
      "                                                                                \r"
     ]
    }
   ],
   "source": [
    "payments.show()\n",
    "\n",
    "print(f'Quantidade dos dados {payments.count()}')\n",
    "print(f'Colunas dos dados {payments.columns}')"
   ]
  },
  {
   "cell_type": "markdown",
   "metadata": {},
   "source": [
    "### **Explorando os dados de ***channels*****"
   ]
  },
  {
   "cell_type": "code",
   "execution_count": 8,
   "metadata": {},
   "outputs": [
    {
     "name": "stdout",
     "output_type": "stream",
     "text": [
      "+----------+--------------+------------+\n",
      "|       _c0|           _c1|         _c2|\n",
      "+----------+--------------+------------+\n",
      "|channel_id|  channel_name|channel_type|\n",
      "|         1|   OTHER PLACE| OWN CHANNEL|\n",
      "|         2|   PHONE PLACE| OWN CHANNEL|\n",
      "|         3|   WHATS PLACE| OWN CHANNEL|\n",
      "|         4|    FACE PLACE| OWN CHANNEL|\n",
      "|         5|    FOOD PLACE| MARKETPLACE|\n",
      "|         6|   STORE PLACE| OWN CHANNEL|\n",
      "|         7|  BERLIN PLACE| OWN CHANNEL|\n",
      "|         8|  MADRID PLACE| OWN CHANNEL|\n",
      "|         9|   THINK PLACE| OWN CHANNEL|\n",
      "|        10|  LISBON PLACE| OWN CHANNEL|\n",
      "|        11|   SUPER PLACE| OWN CHANNEL|\n",
      "|        12|     ALL PLACE| MARKETPLACE|\n",
      "|        13|VELOCITY PLACE| MARKETPLACE|\n",
      "|        15|    EATS PLACE| MARKETPLACE|\n",
      "|        17|   SHOPP PLACE| MARKETPLACE|\n",
      "|        20|  MUNICH PLACE| MARKETPLACE|\n",
      "|        21|  LONDON PLACE| MARKETPLACE|\n",
      "|        23|  ATCHIN PLACE| MARKETPLACE|\n",
      "|        24|    FULL PLACE| MARKETPLACE|\n",
      "+----------+--------------+------------+\n",
      "only showing top 20 rows\n",
      "\n",
      "Quantidade dos dados 41\n",
      "Colunas dos dados ['_c0', '_c1', '_c2']\n"
     ]
    }
   ],
   "source": [
    "channels.show()\n",
    "\n",
    "print(f'Quantidade dos dados {channels.count()}')\n",
    "print(f'Colunas dos dados {channels.columns}')"
   ]
  },
  {
   "cell_type": "markdown",
   "metadata": {},
   "source": [
    "### **Explorando os dados de ***deliveries*****"
   ]
  },
  {
   "cell_type": "code",
   "execution_count": 9,
   "metadata": {},
   "outputs": [
    {
     "name": "stdout",
     "output_type": "stream",
     "text": [
      "+-----------+-----------------+---------+--------------------+---------------+\n",
      "|        _c0|              _c1|      _c2|                 _c3|            _c4|\n",
      "+-----------+-----------------+---------+--------------------+---------------+\n",
      "|delivery_id|delivery_order_id|driver_id|delivery_distance...|delivery_status|\n",
      "|    2174658|         68413340|     8378|                5199|      DELIVERED|\n",
      "|    2174660|         68414309|     2473|                 410|      DELIVERED|\n",
      "|    2174661|         68416230|     7615|                3784|      DELIVERED|\n",
      "|    2174663|         68412721|     8378|                5714|      DELIVERED|\n",
      "|    2174675|         68414018|    10463|                3746|      DELIVERED|\n",
      "|    2174680|         68415103|    16430|                3924|      DELIVERED|\n",
      "|    2174693|         68416643|    14513|                2489|      DELIVERED|\n",
      "|    2174695|         68417783|     NULL|                2564|      CANCELLED|\n",
      "|    2174696|         68415457|     9996|                 340|      DELIVERED|\n",
      "|    2174697|         68414563|    23092|                1081|      DELIVERED|\n",
      "|    2174699|         68415140|     9996|                2880|      DELIVERED|\n",
      "|    2174705|         68416059|     9996|                1450|      DELIVERED|\n",
      "|    2174707|         68417307|    25575|                1699|      DELIVERED|\n",
      "|    2174708|         68416059|     9996|                1450|      DELIVERED|\n",
      "|    2174712|         68415947|     9392|                5951|      DELIVERED|\n",
      "|    2174713|         68416226|    15156|                2353|      DELIVERED|\n",
      "|    2174715|         68417646|    29669|                1014|      DELIVERED|\n",
      "|    2174720|         68416227|    10514|                5796|      DELIVERED|\n",
      "|    2174724|         68416397|     7396|                4425|      DELIVERED|\n",
      "+-----------+-----------------+---------+--------------------+---------------+\n",
      "only showing top 20 rows\n",
      "\n",
      "Quantidade dos dados 378844\n",
      "Colunas dos dados ['_c0', '_c1', '_c2', '_c3', '_c4']\n"
     ]
    }
   ],
   "source": [
    "deliveries.show()\n",
    "\n",
    "print(f'Quantidade dos dados {deliveries.count()}')\n",
    "print(f'Colunas dos dados {deliveries.columns}')"
   ]
  },
  {
   "cell_type": "markdown",
   "metadata": {},
   "source": [
    "### **Explorando os dados de ***drivers*****"
   ]
  },
  {
   "cell_type": "code",
   "execution_count": 10,
   "metadata": {},
   "outputs": [
    {
     "name": "stdout",
     "output_type": "stream",
     "text": [
      "+---------+------------+-----------------+\n",
      "|      _c0|         _c1|              _c2|\n",
      "+---------+------------+-----------------+\n",
      "|driver_id|driver_modal|      driver_type|\n",
      "|      133|     MOTOBOY|LOGISTIC OPERATOR|\n",
      "|      138|     MOTOBOY|        FREELANCE|\n",
      "|      140|     MOTOBOY|        FREELANCE|\n",
      "|      143|       BIKER|        FREELANCE|\n",
      "|      148|     MOTOBOY|        FREELANCE|\n",
      "|      165|     MOTOBOY|        FREELANCE|\n",
      "|      172|     MOTOBOY|        FREELANCE|\n",
      "|      174|       BIKER|        FREELANCE|\n",
      "|      187|       BIKER|        FREELANCE|\n",
      "|      196|       BIKER|        FREELANCE|\n",
      "|      202|       BIKER|        FREELANCE|\n",
      "|      210|     MOTOBOY|        FREELANCE|\n",
      "|      217|     MOTOBOY|LOGISTIC OPERATOR|\n",
      "|      223|     MOTOBOY|        FREELANCE|\n",
      "|      224|       BIKER|        FREELANCE|\n",
      "|      225|     MOTOBOY|LOGISTIC OPERATOR|\n",
      "|      228|     MOTOBOY|        FREELANCE|\n",
      "|      231|     MOTOBOY|LOGISTIC OPERATOR|\n",
      "|      243|     MOTOBOY|LOGISTIC OPERATOR|\n",
      "+---------+------------+-----------------+\n",
      "only showing top 20 rows\n",
      "\n",
      "Quantidade dos dados 4825\n",
      "Colunas dos dados ['_c0', '_c1', '_c2']\n"
     ]
    }
   ],
   "source": [
    "drivers.show()\n",
    "\n",
    "print(f'Quantidade dos dados {drivers.count()}')\n",
    "print(f'Colunas dos dados {drivers.columns}')"
   ]
  },
  {
   "cell_type": "markdown",
   "metadata": {},
   "source": [
    "### **Explorando os dados de ***hubs*****"
   ]
  },
  {
   "cell_type": "code",
   "execution_count": 11,
   "metadata": {},
   "outputs": [
    {
     "name": "stdout",
     "output_type": "stream",
     "text": [
      "+------+----------------+--------------+---------+------------+-------------+\n",
      "|   _c0|             _c1|           _c2|      _c3|         _c4|          _c5|\n",
      "+------+----------------+--------------+---------+------------+-------------+\n",
      "|hub_id|        hub_name|      hub_city|hub_state|hub_latitude|hub_longitude|\n",
      "|     2|   BLUE SHOPPING|  PORTO ALEGRE|       RS| -30.0474148|    -51.21351|\n",
      "|     3|  GREEN SHOPPING|  PORTO ALEGRE|       RS| -30.0374149|    -51.20352|\n",
      "|     4|    RED SHOPPING|  PORTO ALEGRE|       RS| -30.0219481|  -51.2083816|\n",
      "|     5|   FUNK SHOPPING|RIO DE JANEIRO|       RJ| -23.0007498|   -43.318282|\n",
      "|     8| GOLDEN SHOPPING|RIO DE JANEIRO|       RJ|  -22.921475|   -43.234774|\n",
      "|    13|HIP HOP SHOPPING|RIO DE JANEIRO|       RJ| -22.8858199|  -43.2792183|\n",
      "|    16| PEOPLE SHOPPING|RIO DE JANEIRO|       RJ| -23.0174723|  -43.4799389|\n",
      "|    17|  SMALL SHOPPING|     S�O PAULO|       SP| -23.5920041|  -46.6365035|\n",
      "|    18|   STAR SHOPPING|RIO DE JANEIRO|       RJ| -22.9454948|  -43.1821807|\n",
      "|    20| PURPLE SHOPPING|RIO DE JANEIRO|       RJ|  -22.996848|   -43.359636|\n",
      "|    21|   WOLF SHOPPING|     S�O PAULO|       SP|  -23.550407|  -46.6973162|\n",
      "|    22|  COLOR SHOPPING|RIO DE JANEIRO|       RJ| -23.0007532|  -43.3837713|\n",
      "|    25| AVENUE SHOPPING|     S�O PAULO|       SP| -23.5677027|   -46.642043|\n",
      "|    26|    SQL SHOPPING|     S�O PAULO|       SP| -23.5630195|   -46.652621|\n",
      "|    27|  SAMPA SHOPPING|     S�O PAULO|       SP|  -23.622995|   -46.699204|\n",
      "|    28|    RAP SHOPPING|     S�O PAULO|       SP|  -23.595001|   -46.685984|\n",
      "|    29| SUBWAY SHOPPING|     S�O PAULO|       SP|  -23.561053|   -46.558976|\n",
      "|    31| PAGODE SHOPPING|     S�O PAULO|       SP|  -23.629826|   -46.735203|\n",
      "|    33| COFFEE SHOPPING|     S�O PAULO|       SP|  -23.579067|    -46.59282|\n",
      "+------+----------------+--------------+---------+------------+-------------+\n",
      "only showing top 20 rows\n",
      "\n",
      "Quantidade dos dados 33\n",
      "Colunas dos dados ['_c0', '_c1', '_c2', '_c3', '_c4', '_c5']\n"
     ]
    }
   ],
   "source": [
    "hubs.show()\n",
    "\n",
    "print(f'Quantidade dos dados {hubs.count()}')\n",
    "print(f'Colunas dos dados {hubs.columns}')"
   ]
  },
  {
   "cell_type": "markdown",
   "metadata": {},
   "source": [
    "### **Explorando os dados de ***orders*****"
   ]
  },
  {
   "cell_type": "code",
   "execution_count": 12,
   "metadata": {},
   "outputs": [
    {
     "name": "stdout",
     "output_type": "stream",
     "text": [
      "+--------+--------+----------+----------------+-----------------+------------+------------+------------------+-------------------+------------------+--------------------+-----------------+-------------------+------------------+--------------------+--------------------+-------------------+--------------------+--------------------+--------------------+--------------------+--------------------+--------------------+--------------------+--------------------+--------------------+--------------------+--------------------+--------------------+\n",
      "|     _c0|     _c1|       _c2|             _c3|              _c4|         _c5|         _c6|               _c7|                _c8|               _c9|                _c10|             _c11|               _c12|              _c13|                _c14|                _c15|               _c16|                _c17|                _c18|                _c19|                _c20|                _c21|                _c22|                _c23|                _c24|                _c25|                _c26|                _c27|                _c28|\n",
      "+--------+--------+----------+----------------+-----------------+------------+------------+------------------+-------------------+------------------+--------------------+-----------------+-------------------+------------------+--------------------+--------------------+-------------------+--------------------+--------------------+--------------------+--------------------+--------------------+--------------------+--------------------+--------------------+--------------------+--------------------+--------------------+--------------------+\n",
      "|order_id|store_id|channel_id|payment_order_id|delivery_order_id|order_status|order_amount|order_delivery_fee|order_delivery_cost|order_created_hour|order_created_minute|order_created_day|order_created_month|order_created_year|order_moment_created|order_moment_acce...| order_moment_ready|order_moment_coll...|order_moment_in_e...|order_moment_deli...|order_moment_deli...|order_moment_fini...|order_metric_coll...|order_metric_paus...|order_metric_prod...|order_metric_walk...|order_metric_expe...|order_metric_tran...|order_metric_cycl...|\n",
      "|68405119|    3512|         5|        68405119|         68405119|    CANCELED|        62.7|                 0|               NULL|                 0|                   1|                1|                  1|              2021|1/1/2021 12:01:36 AM|                NULL|               NULL|                NULL|                NULL|                NULL|                NULL|                NULL|                NULL|                NULL|                NULL|                NULL|                NULL|                NULL|                NULL|\n",
      "|68405123|    3512|         5|        68405123|         68405123|    CANCELED|        62.7|                 0|               NULL|                 0|                   4|                1|                  1|              2021|1/1/2021 12:04:26 AM|                NULL|               NULL|                NULL|                NULL|                NULL|                NULL|                NULL|                NULL|                NULL|                NULL|                NULL|                NULL|                NULL|                NULL|\n",
      "|68405206|    3512|         5|        68405206|         68405206|    CANCELED|       115.5|                 0|               NULL|                 0|                  13|                1|                  1|              2021|1/1/2021 12:13:07 AM|                NULL|               NULL|                NULL|                NULL|                NULL|                NULL|                NULL|                NULL|                NULL|                NULL|                NULL|                NULL|                NULL|                NULL|\n",
      "|68405465|    3401|         5|        68405465|         68405465|    CANCELED|        55.9|                 0|               NULL|                 0|                  19|                1|                  1|              2021|1/1/2021 12:19:15 AM|                NULL|               NULL|                NULL|                NULL|                NULL|                NULL|                NULL|                NULL|                NULL|                NULL|                NULL|                NULL|                NULL|                NULL|\n",
      "|68406064|    3401|         5|        68406064|         68406064|    CANCELED|        37.9|                 0|               NULL|                 0|                  26|                1|                  1|              2021|1/1/2021 12:26:25 AM|                NULL|               NULL|                NULL|                NULL|                NULL|                NULL|                NULL|                NULL|                NULL|                NULL|                NULL|                NULL|                NULL|                NULL|\n",
      "|68408108|     786|         5|        68408108|         68408108|    CANCELED|          80|               9.9|               NULL|                 0|                  56|                1|                  1|              2021|1/1/2021 12:56:19 AM|                NULL|               NULL|                NULL|                NULL|                NULL|                NULL|                NULL|                NULL|                NULL|                NULL|                NULL|                NULL|                NULL|                NULL|\n",
      "|68408109|    1125|         5|        68408109|         68408109|    CANCELED|          71|               9.9|               NULL|                 0|                  56|                1|                  1|              2021|1/1/2021 12:56:49 AM|                NULL|               NULL|                NULL|                NULL|                NULL|                NULL|                NULL|                NULL|                NULL|                NULL|                NULL|                NULL|                NULL|                NULL|\n",
      "|68409030|    1064|        35|        68409030|         68409030|    CANCELED|       214.8|              0.01|                  0|                 1|                  56|                1|                  1|              2021| 1/1/2021 1:56:42 AM| 1/1/2021 1:57:00 AM|               NULL|                NULL|                NULL|                NULL|                NULL|                NULL|                NULL|                NULL|                NULL|                NULL|                NULL|                NULL|                NULL|\n",
      "|68410055|    2181|        35|        68410055|         68410055|    FINISHED|       394.8|              0.01|                  6|                 2|                  32|                1|                  1|              2021| 1/1/2021 2:32:51 AM| 1/1/2021 2:33:00 AM|1/2/2021 6:24:06 PM| 1/2/2021 6:30:44 PM| 1/2/2021 6:31:15 PM| 1/2/2021 6:35:49 PM|                NULL| 1/2/2021 6:57:34 PM|                6.63|                4.55|             2391.25|                7.17|               11.72|               21.75|             2424.72|\n",
      "|68412121|    1152|         5|        68412121|         68412121|    CANCELED|        25.5|               9.9|               NULL|                13|                  57|                1|                  1|              2021| 1/1/2021 1:57:21 PM|                NULL|               NULL|                NULL|                NULL|                NULL|                NULL|                NULL|                NULL|                NULL|                NULL|                NULL|                NULL|                NULL|                NULL|\n",
      "|68412122|     490|         5|        68412122|         68412122|    CANCELED|          30|               5.9|               NULL|                13|                  57|                1|                  1|              2021| 1/1/2021 1:57:21 PM|                NULL|               NULL|                NULL|                NULL|                NULL|                NULL|                NULL|                NULL|                NULL|                NULL|                NULL|                NULL|                NULL|                NULL|\n",
      "|68412123|     674|         5|        68412123|         68412123|    CANCELED|        74.5|               5.9|               NULL|                13|                  57|                1|                  1|              2021| 1/1/2021 1:57:31 PM|                NULL|               NULL|                NULL|                NULL|                NULL|                NULL|                NULL|                NULL|                NULL|                NULL|                NULL|                NULL|                NULL|                NULL|\n",
      "|68412131|     490|         5|        68412131|         68412131|    CANCELED|          48|               7.9|               NULL|                13|                  58|                1|                  1|              2021| 1/1/2021 1:58:01 PM|                NULL|               NULL|                NULL|                NULL|                NULL|                NULL|                NULL|                NULL|                NULL|                NULL|                NULL|                NULL|                NULL|                NULL|\n",
      "|68412134|     679|         5|        68412134|         68412134|    CANCELED|        34.9|               9.9|               NULL|                13|                  58|                1|                  1|              2021| 1/1/2021 1:58:32 PM|                NULL|               NULL|                NULL|                NULL|                NULL|                NULL|                NULL|                NULL|                NULL|                NULL|                NULL|                NULL|                NULL|                NULL|\n",
      "|68412148|     294|         5|        68412148|         68412148|    CANCELED|          34|               6.9|               NULL|                14|                   2|                1|                  1|              2021| 1/1/2021 2:02:01 PM|                NULL|               NULL|                NULL|                NULL|                NULL|                NULL|                NULL|                NULL|                NULL|                NULL|                NULL|                NULL|                NULL|                NULL|\n",
      "|68412322|     294|         5|        68412322|         68412322|    CANCELED|        39.3|               9.9|               NULL|                14|                   6|                1|                  1|              2021| 1/1/2021 2:06:31 PM|                NULL|               NULL|                NULL|                NULL|                NULL|                NULL|                NULL|                NULL|                NULL|                NULL|                NULL|                NULL|                NULL|                NULL|\n",
      "|68412444|     294|         5|        68412444|         68412444|    CANCELED|        41.5|               9.9|               NULL|                14|                   8|                1|                  1|              2021| 1/1/2021 2:08:11 PM|                NULL|               NULL|                NULL|                NULL|                NULL|                NULL|                NULL|                NULL|                NULL|                NULL|                NULL|                NULL|                NULL|                NULL|\n",
      "|68412721|     631|         5|        68412721|         68412721|    FINISHED|      195.05|              11.9|              10.93|                14|                  12|                1|                  1|              2021| 1/1/2021 2:12:11 PM| 1/1/2021 2:12:17 PM|1/1/2021 2:38:15 PM| 1/1/2021 2:38:31 PM| 1/1/2021 2:39:05 PM| 1/1/2021 2:49:18 PM|                NULL| 1/1/2021 4:12:36 PM|                0.27|               10.22|               26.07|                0.83|               11.05|                83.3|              120.42|\n",
      "|68413340|     631|         5|        68413340|         68413340|    FINISHED|        46.9|              11.9|              11.36|                14|                  14|                1|                  1|              2021| 1/1/2021 2:14:51 PM| 1/1/2021 2:15:20 PM|1/1/2021 2:29:28 PM| 1/1/2021 2:36:30 PM| 1/1/2021 2:39:02 PM| 1/1/2021 2:42:08 PM|                NULL| 1/1/2021 3:31:54 PM|                7.03|                 3.1|               14.62|                9.57|               12.67|               49.78|               77.05|\n",
      "+--------+--------+----------+----------------+-----------------+------------+------------+------------------+-------------------+------------------+--------------------+-----------------+-------------------+------------------+--------------------+--------------------+-------------------+--------------------+--------------------+--------------------+--------------------+--------------------+--------------------+--------------------+--------------------+--------------------+--------------------+--------------------+--------------------+\n",
      "only showing top 20 rows\n",
      "\n",
      "Quantidade dos dados 369000\n",
      "Colunas dos dados ['_c0', '_c1', '_c2', '_c3', '_c4', '_c5', '_c6', '_c7', '_c8', '_c9', '_c10', '_c11', '_c12', '_c13', '_c14', '_c15', '_c16', '_c17', '_c18', '_c19', '_c20', '_c21', '_c22', '_c23', '_c24', '_c25', '_c26', '_c27', '_c28']\n"
     ]
    }
   ],
   "source": [
    "orders.show()\n",
    "\n",
    "print(f'Quantidade dos dados {orders.count()}')\n",
    "print(f'Colunas dos dados {orders.columns}')"
   ]
  },
  {
   "cell_type": "markdown",
   "metadata": {},
   "source": [
    "### **Explorando os dados de ***stores*****"
   ]
  },
  {
   "cell_type": "code",
   "execution_count": 14,
   "metadata": {},
   "outputs": [
    {
     "name": "stdout",
     "output_type": "stream",
     "text": [
      "+--------+------+--------------------+-------------+----------------+--------------+---------------+\n",
      "|     _c0|   _c1|                 _c2|          _c3|             _c4|           _c5|            _c6|\n",
      "+--------+------+--------------------+-------------+----------------+--------------+---------------+\n",
      "|store_id|hub_id|          store_name|store_segment|store_plan_price|store_latitude|store_longitude|\n",
      "|       3|     2|             CUMIURI|         FOOD|               0|          NULL|           NULL|\n",
      "|       6|     3|   PIMGUCIS DA VIVA |         FOOD|               0|   -30.0374149|      -51.20352|\n",
      "|       8|     3|           RASMUR S |         FOOD|               0|   -30.0374149|      -51.20352|\n",
      "|      53|     8|         PAPA SUCIS |         FOOD|               0|    -22.921475|     -43.234822|\n",
      "|      54|     8|       VUZPI PAZZIS |         FOOD|               0|    -22.921475|     -43.234822|\n",
      "|      56|     8|             SUPSIO |         FOOD|              49|    -22.921475|     -43.234822|\n",
      "|      58|     8|          PIAMUARIS |         FOOD|              49|    -22.921475|     -43.234822|\n",
      "|      82|     8|             LUCITA |         FOOD|               0|    -22.921475|     -43.234822|\n",
      "|      83|     8|          PRARIZZAI |         FOOD|               0|    -22.921475|     -43.234822|\n",
      "|      84|     8|     PALLO MZU GRALA|         FOOD|              49|    -22.921475|     -43.234822|\n",
      "|      85|     8|         PRISMAURAI |         FOOD|               0|    -22.921475|     -43.234822|\n",
      "|      88|     8|            EUGUSMI |         GOOD|               0|    -22.921475|     -43.234822|\n",
      "|      89|     8|      LIS URPIMIOUS |         FOOD|              49|    -22.921475|     -43.234822|\n",
      "|      90|     8|CISI DA POI EU QU...|         FOOD|              49|    -22.921475|     -43.234822|\n",
      "|      95|     8|         ARE TRAMUO |         FOOD|              49|    -22.921475|     -43.234822|\n",
      "|      96|     5|     PIRMI DA SIPIR |         FOOD|               0|   -23.0007498|     -43.318364|\n",
      "|      99|     8|     SIRVUMU AMILAI |         FOOD|               0|    -22.921475|     -43.234822|\n",
      "|     100|     8|           LUPIMUIM |         FOOD|            49.9|    -22.921475|     -43.234822|\n",
      "|     122|     4|             MASUCIE|         GOOD|               0|          NULL|           NULL|\n",
      "+--------+------+--------------------+-------------+----------------+--------------+---------------+\n",
      "only showing top 20 rows\n",
      "\n",
      "Quantidade dos dados 952\n",
      "Colunas dos dados ['_c0', '_c1', '_c2', '_c3', '_c4', '_c5', '_c6']\n"
     ]
    }
   ],
   "source": [
    "stores.show()\n",
    "\n",
    "print(f'Quantidade dos dados {stores.count()}')\n",
    "print(f'Colunas dos dados {stores.columns}')"
   ]
  }
 ],
 "metadata": {
  "kernelspec": {
   "display_name": "Python 3",
   "language": "python",
   "name": "python3"
  },
  "language_info": {
   "codemirror_mode": {
    "name": "ipython",
    "version": 3
   },
   "file_extension": ".py",
   "mimetype": "text/x-python",
   "name": "python",
   "nbconvert_exporter": "python",
   "pygments_lexer": "ipython3",
   "version": "3.10.12"
  }
 },
 "nbformat": 4,
 "nbformat_minor": 2
}
